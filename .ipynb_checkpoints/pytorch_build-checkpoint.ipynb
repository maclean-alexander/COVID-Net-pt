{
 "cells": [
  {
   "cell_type": "markdown",
   "id": "df37c90c",
   "metadata": {},
   "source": [
    "# DarwinAI Build SDK Demo (PyTorch)\n",
    "<br>\n",
    "<font size= 4>\n",
    "This notebook demonstrates the DarwinAI Build SDK for automatically generating tailored, optimized model architectures based on operational requirements.  DarwinAI Build SDK can be used to automatically generate optimized models under different scenarios such as during the early prototyping stage before training and at the design stage after an initial model prototype has been created and trained.  In this demo, we will illustrate how the Build SDK can be used under the scenario where: \n",
    "<br>\n",
    "<ol>\n",
    "  <li>the developer has already created a pre-trained model prototype as initial condition, and</li>\n",
    "  <li>the developer specifies an operational target based on FLOPs.</li>\n",
    "</ol>\n",
    "Here, we will specify two different FLOPs targets and have Build SDK automatically generate two optimized PyTorch models.  Finally, we will output the performance specifications (e.g., number of parameters, number of FLOPs for inference) for the two generated optimized models.\n",
    "</font>"
   ]
  },
  {
   "cell_type": "code",
   "execution_count": 1,
   "id": "baff3bd4",
   "metadata": {},
   "outputs": [],
   "source": [
    "import torch\n",
    "import torchvision.models as models\n",
    "from PIL import Image\n",
    "import numpy as np\n",
    "from thop import profile\n",
    "import math"
   ]
  },
  {
   "cell_type": "code",
   "execution_count": 2,
   "id": "9fe0d221",
   "metadata": {},
   "outputs": [
    {
     "name": "stderr",
     "output_type": "stream",
     "text": [
      "22-02-11 12:47:19.620|INFO|<frozen importlib._bootstrap>|_load_backward_compatible|618|LicensingClient|License activated successfully.\n"
     ]
    },
    {
     "name": "stdout",
     "output_type": "stream",
     "text": [
      "The DarwinAI troubleshooting mode is active and debug logs are stored at /home/tia.tuinstra/COVID-Net-pt/logs/darwin_sdk_2022-02-11T12:47:19.debug.\n"
     ]
    }
   ],
   "source": [
    "# DarwinAI Build SDK imports\n",
    "from darwinai.torch.builder import build_model\n",
    "from darwinai.builder import BlockSpec"
   ]
  },
  {
   "cell_type": "code",
   "execution_count": 6,
   "id": "3fe8aab0",
   "metadata": {},
   "outputs": [],
   "source": [
    "# For this demo, we will use a ResNet as the model prototype as initial condition, which is defined in the resnet.py file\n",
    "from resnet import ResNet"
   ]
  },
  {
   "cell_type": "code",
   "execution_count": 7,
   "id": "0f922bb2",
   "metadata": {},
   "outputs": [],
   "source": [
    "# Utility functions\n",
    "def get_params(model):\n",
    "    \"\"\"Calculates the total parameters in the model\"\"\"\n",
    "    total_parameters = 0\n",
    "    for param in model.parameters():\n",
    "        total_parameters += np.prod(param.size())\n",
    "    return total_parameters\n",
    "\n",
    "def get_flops(model, input_shape):\n",
    "    \"\"\"Calculates the flops in the model\"\"\"\n",
    "    dummy_inputs = torch.zeros(*input_shape)\n",
    "    flops = profile(model, inputs=(dummy_inputs,), verbose=False)[0]\n",
    "    return math.floor(flops)"
   ]
  },
  {
   "cell_type": "markdown",
   "id": "4c009827",
   "metadata": {},
   "source": [
    "<font size= 4>\n",
    "The DarwinAI Build SDK requires the user to provide a function that returns a model. This function takes in a list of BlockSpecs, which is just a simple structure that defines the architectural properties of a sub-component in the model's architecture (e.g., number of blocks in a sub-component, number of channels within each block of a sub-component, etc.). The architectural properties defined in BlockSpecs helps establish the design exploration space for Build SDK to explore in an automated and efficient fashion during the machine-driven design exploration phase.\n",
    "</font>"
   ]
  },
  {
   "cell_type": "code",
   "execution_count": 5,
   "id": "22cf4516",
   "metadata": {},
   "outputs": [],
   "source": [
    "def make_model(blockspecs):\n",
    "    num_classes = 1000\n",
    "    return ResNet(blockspecs, num_classes)"
   ]
  },
  {
   "cell_type": "code",
   "execution_count": 4,
   "id": "2ced843a",
   "metadata": {},
   "outputs": [
    {
     "name": "stdout",
     "output_type": "stream",
     "text": [
      "Architecture properties of initial model prototype:\n"
     ]
    },
    {
     "ename": "NameError",
     "evalue": "name 'get_params' is not defined",
     "output_type": "error",
     "traceback": [
      "\u001b[0;31m---------------------------------------------------------------------------\u001b[0m",
      "\u001b[0;31mNameError\u001b[0m                                 Traceback (most recent call last)",
      "Input \u001b[0;32mIn [4]\u001b[0m, in \u001b[0;36m<module>\u001b[0;34m\u001b[0m\n\u001b[1;32m     14\u001b[0m input_shape \u001b[38;5;241m=\u001b[39m [\u001b[38;5;241m1\u001b[39m, \u001b[38;5;241m3\u001b[39m, \u001b[38;5;241m224\u001b[39m, \u001b[38;5;241m224\u001b[39m]\n\u001b[1;32m     16\u001b[0m \u001b[38;5;28mprint\u001b[39m(\u001b[38;5;124m\"\u001b[39m\u001b[38;5;124mArchitecture properties of initial model prototype:\u001b[39m\u001b[38;5;124m\"\u001b[39m)\n\u001b[0;32m---> 17\u001b[0m \u001b[38;5;28mprint\u001b[39m(\u001b[38;5;124m\"\u001b[39m\u001b[38;5;124mNumber of Parameters: \u001b[39m\u001b[38;5;124m\"\u001b[39m, \u001b[43mget_params\u001b[49m(baseline_pretrained_model))\n\u001b[1;32m     18\u001b[0m \u001b[38;5;28mprint\u001b[39m(\u001b[38;5;124m\"\u001b[39m\u001b[38;5;124mNumber of FLOPs: \u001b[39m\u001b[38;5;124m\"\u001b[39m, get_flops(baseline_pretrained_model, input_shape))\n\u001b[1;32m     19\u001b[0m \u001b[38;5;28mprint\u001b[39m(\u001b[38;5;124m\"\u001b[39m\u001b[38;5;130;01m\\t\u001b[39;00m\u001b[38;5;130;01m\\t\u001b[39;00m\u001b[38;5;124m Num Blocks \u001b[39m\u001b[38;5;130;01m\\t\u001b[39;00m\u001b[38;5;124m Channels per Block\u001b[39m\u001b[38;5;124m\"\u001b[39m)\n",
      "\u001b[0;31mNameError\u001b[0m: name 'get_params' is not defined"
     ]
    }
   ],
   "source": [
    "# The initial conditions of the model prototype is defined with respect to the following \n",
    "#BlockSpecs. See the ResNet class implementation for additional details in resnet.py\n",
    "initial_blockspecs = [\n",
    "    BlockSpec(channels=64, depth=3),\n",
    "    BlockSpec(channels=128, depth=4),\n",
    "    BlockSpec(channels=256, depth=6),\n",
    "    BlockSpec(channels=512, depth=3),\n",
    "]\n",
    "# To enable the Build SDK to learn from both the model prototype but also its associated knowledge, \n",
    "# we create an additional ResNet model that loads ImageNet pretrained weights. Build SDK learns from \n",
    "# knowledge captured in the pretrained weights to generate the optimized model during the design exploration phase. \n",
    "baseline_pretrained_model = models.resnet50(pretrained=True)\n",
    "baseline_pretrained_model.eval()\n",
    "input_shape = [1, 3, 224, 224]\n",
    "\n",
    "print(\"Architecture properties of initial model prototype:\")\n",
    "print(\"Number of Parameters: \", get_params(baseline_pretrained_model))\n",
    "print(\"Number of FLOPs: \", get_flops(baseline_pretrained_model, input_shape))\n",
    "print(\"\\t\\t Num Blocks \\t Channels per Block\")\n",
    "for b, blkspec in enumerate(initial_blockspecs):\n",
    "    print(\"Stage {} \\t {} \\t\\t {}\".format(b, blkspec.depth, blkspec.channels))"
   ]
  },
  {
   "cell_type": "code",
   "execution_count": null,
   "id": "ff182b8b",
   "metadata": {},
   "outputs": [],
   "source": [
    "target_flops_ratio = 0.5\n",
    "# The build_model function returns a generated optimized model based on the desired performance target.\n",
    "# Here we first generate an optimized model based on a FLOPS target of 50% relative to initial model prototype.\n",
    "# The newly generated optimized model can then be further trained or fine-tuned.\n",
    "print('Generating optimized model...')\n",
    "model = build_model(\n",
    "    make_model,\n",
    "    initial_blockspecs,\n",
    "    input_shape,\n",
    "    target_flops_ratio,\n",
    "    pretrained_model=baseline_pretrained_model,\n",
    ")\n",
    "print('Done generating optimized model.')"
   ]
  },
  {
   "cell_type": "code",
   "execution_count": null,
   "id": "88e11c40",
   "metadata": {},
   "outputs": [],
   "source": [
    "# The newly generated optimized model's architecture is different than the initial model prototype\n",
    "print(\"Architecture properties of generated optimized model at a target FLOPs ratio of {}:\".format(target_flops_ratio))\n",
    "print(\"Number of Parameters: \", get_params(model))\n",
    "print(\"Number of FLOPs: \", get_flops(model, input_shape))\n",
    "\n",
    "print(\"\\t\\t Num Blocks \\t Channels per Block\")\n",
    "for b, blkspec in enumerate(model.blockspecs):\n",
    "    print(\"Stage {} \\t {} \\t\\t {}\".format(b, blkspec.depth, blkspec.channels))"
   ]
  },
  {
   "cell_type": "markdown",
   "id": "2bef56ad",
   "metadata": {},
   "source": [
    "<font size= 4>\n",
    "The generated optimized model is now ready to be further trained or fine-tuned then deployed using your preferred deployment toolkits (TensorRT, OpenVINO, etc.). There are no custom or proprietary artifacts in the model, and so deployment compatibility for the newly generated model remains the same as the initial model prototype.\n",
    "<br>\n",
    "<br>\n",
    "Let us now generate a second optimized model at a different performance target (FLOPS target of 20% relative to initial model prototype).\n",
    "</font>"
   ]
  },
  {
   "cell_type": "code",
   "execution_count": null,
   "id": "bf7c14de",
   "metadata": {},
   "outputs": [],
   "source": [
    "# We will now re-run Build SDK, but this time generate an optimized model based on a different performance target.\n",
    "target_flops_ratio = 0.2\n",
    "# In this demo, we now generate an optimized model based on a FLOPS target of 20% relative to initial model prototype.\n",
    "# The newly generated optimized model can then be further trained or fine-tuned.\n",
    "\n",
    "print('Generating model...')\n",
    "model2 = build_model(\n",
    "    make_model,\n",
    "    initial_blockspecs,\n",
    "    input_shape,\n",
    "    target_flops_ratio,\n",
    "    pretrained_model=baseline_pretrained_model,\n",
    ")\n",
    "print('Done generating model.')\n",
    "print(\"Architecture properties of generated optimized model at a target FLOPs ratio of {}:\".format(target_flops_ratio))\n",
    "print(\"Number of Parameters: \", get_params(model2))\n",
    "print(\"Number of FLOPs: \", get_flops(model2, input_shape))\n",
    "\n",
    "print(\"\\t\\t Num Blocks \\t Channels per Block\")\n",
    "for b, blkspec in enumerate(model2.blockspecs):\n",
    "    print(\"Stage {} \\t {} \\t\\t {}\".format(b, blkspec.depth, blkspec.channels))"
   ]
  },
  {
   "cell_type": "code",
   "execution_count": null,
   "id": "358c6728",
   "metadata": {},
   "outputs": [],
   "source": []
  }
 ],
 "metadata": {
  "kernelspec": {
   "display_name": "Python 3",
   "language": "python",
   "name": "python3"
  },
  "language_info": {
   "codemirror_mode": {
    "name": "ipython",
    "version": 3
   },
   "file_extension": ".py",
   "mimetype": "text/x-python",
   "name": "python",
   "nbconvert_exporter": "python",
   "pygments_lexer": "ipython3",
   "version": "3.8.5"
  }
 },
 "nbformat": 4,
 "nbformat_minor": 5
}
