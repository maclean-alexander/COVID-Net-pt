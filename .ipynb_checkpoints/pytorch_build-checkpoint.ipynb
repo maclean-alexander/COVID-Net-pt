{
 "cells": [
  {
   "cell_type": "markdown",
   "id": "df37c90c",
   "metadata": {},
   "source": [
    "# DarwinAI Build SDK Demo (PyTorch)\n",
    "<br>\n",
    "<font size= 4>\n",
    "This notebook demonstrates the DarwinAI Build SDK for automatically generating tailored, optimized model architectures based on operational requirements.  DarwinAI Build SDK can be used to automatically generate optimized models under different scenarios such as during the early prototyping stage before training and at the design stage after an initial model prototype has been created and trained.  In this demo, we will illustrate how the Build SDK can be used under the scenario where: \n",
    "<br>\n",
    "<ol>\n",
    "  <li>the developer has already created a pre-trained model prototype as initial condition, and</li>\n",
    "  <li>the developer specifies an operational target based on FLOPs.</li>\n",
    "</ol>\n",
    "Here, we will specify two different FLOPs targets and have Build SDK automatically generate two optimized PyTorch models.  Finally, we will output the performance specifications (e.g., number of parameters, number of FLOPs for inference) for the two generated optimized models.\n",
    "</font>"
   ]
  },
  {
   "cell_type": "code",
   "execution_count": 1,
   "id": "baff3bd4",
   "metadata": {},
   "outputs": [],
   "source": [
    "import torch\n",
    "import torchvision.models as models\n",
    "from PIL import Image\n",
    "import numpy as np\n",
    "from thop import profile\n",
    "import math\n",
    "\n",
    "NUM_CLASSES = 3"
   ]
  },
  {
   "cell_type": "code",
   "execution_count": 2,
   "id": "9fe0d221",
   "metadata": {},
   "outputs": [
    {
     "name": "stderr",
     "output_type": "stream",
     "text": [
      "22-02-15 00:01:09.507|INFO|<frozen importlib._bootstrap>|_load_backward_compatible|618|Licenser|License is already activated.\n"
     ]
    },
    {
     "name": "stdout",
     "output_type": "stream",
     "text": [
      "The DarwinAI troubleshooting mode is active and debug logs are stored at /home/tia.tuinstra/COVID-Net-pt/logs/darwin_sdk_2022-02-15T00:01:09.debug.\n"
     ]
    }
   ],
   "source": [
    "# DarwinAI Build SDK imports\n",
    "from darwinai.torch.builder import build_model\n",
    "from darwinai.builder import BlockSpec"
   ]
  },
  {
   "cell_type": "code",
   "execution_count": 3,
   "id": "3fe8aab0",
   "metadata": {},
   "outputs": [],
   "source": [
    "# For this demo, we will use a ResNet as the model prototype as initial condition, which is defined in the resnet.py file\n",
    "from resnet import ResNet"
   ]
  },
  {
   "cell_type": "code",
   "execution_count": 4,
   "id": "0f922bb2",
   "metadata": {},
   "outputs": [],
   "source": [
    "# Utility functions\n",
    "def get_params(model):\n",
    "    \"\"\"Calculates the total parameters in the model\"\"\"\n",
    "    total_parameters = 0\n",
    "    for param in model.parameters():\n",
    "        total_parameters += np.prod(param.size())\n",
    "    return total_parameters\n",
    "\n",
    "def get_flops(model, input_shape):\n",
    "    \"\"\"Calculates the flops in the model\"\"\"\n",
    "    dummy_inputs = torch.zeros(*input_shape)\n",
    "    flops = profile(model, inputs=(dummy_inputs,), verbose=False)[0]\n",
    "    return math.floor(flops)"
   ]
  },
  {
   "cell_type": "markdown",
   "id": "4c009827",
   "metadata": {},
   "source": [
    "<font size= 4>\n",
    "The DarwinAI Build SDK requires the user to provide a function that returns a model. This function takes in a list of BlockSpecs, which is just a simple structure that defines the architectural properties of a sub-component in the model's architecture (e.g., number of blocks in a sub-component, number of channels within each block of a sub-component, etc.). The architectural properties defined in BlockSpecs helps establish the design exploration space for Build SDK to explore in an automated and efficient fashion during the machine-driven design exploration phase.\n",
    "</font>"
   ]
  },
  {
   "cell_type": "code",
   "execution_count": 16,
   "id": "22cf4516",
   "metadata": {},
   "outputs": [],
   "source": [
    "def make_model(blockspecs):\n",
    "    num_classes = NUM_CLASSES\n",
    "    return ResNet(blockspecs, num_classes)"
   ]
  },
  {
   "cell_type": "code",
   "execution_count": 17,
   "id": "2ced843a",
   "metadata": {},
   "outputs": [
    {
     "name": "stdout",
     "output_type": "stream",
     "text": [
      "Architecture properties of initial model prototype:\n",
      "Number of Parameters:  23514179\n",
      "Number of FLOPs:  4109472768\n",
      "\t\t Num Blocks \t Channels per Block\n",
      "Stage 0 \t 3 \t\t 64\n",
      "Stage 1 \t 4 \t\t 128\n",
      "Stage 2 \t 6 \t\t 256\n",
      "Stage 3 \t 3 \t\t 512\n"
     ]
    }
   ],
   "source": [
    "# The initial conditions of the model prototype is defined with respect to the following \n",
    "#BlockSpecs. See the ResNet class implementation for additional details in resnet.py\n",
    "initial_blockspecs = [\n",
    "    BlockSpec(channels=64, depth=3),\n",
    "    BlockSpec(channels=128, depth=4),\n",
    "    BlockSpec(channels=256, depth=6),\n",
    "    BlockSpec(channels=512, depth=3),\n",
    "]\n",
    "# To enable the Build SDK to learn from both the model prototype but also its associated knowledge, \n",
    "# we create an additional ResNet model that loads ImageNet pretrained weights. Build SDK learns from \n",
    "# knowledge captured in the pretrained weights to generate the optimized model during the design exploration phase. \n",
    "baseline_pretrained_model = models.resnet50(pretrained=True)\n",
    "num_ftrs = baseline_pretrained_model.fc.in_features\n",
    "baseline_pretrained_model.fc = torch.nn.Linear(num_ftrs, NUM_CLASSES)\n",
    "baseline_pretrained_model.load_state_dict(torch.load('./output/covid_net_model-geo/model'))\n",
    "\n",
    "\n",
    "baseline_pretrained_model.eval()\n",
    "input_shape = [1, 3, 224, 224]\n",
    "\n",
    "print(\"Architecture properties of initial model prototype:\")\n",
    "print(\"Number of Parameters: \", get_params(baseline_pretrained_model))\n",
    "print(\"Number of FLOPs: \", get_flops(baseline_pretrained_model, input_shape))\n",
    "print(\"\\t\\t Num Blocks \\t Channels per Block\")\n",
    "for b, blkspec in enumerate(initial_blockspecs):\n",
    "    print(\"Stage {} \\t {} \\t\\t {}\".format(b, blkspec.depth, blkspec.channels))"
   ]
  },
  {
   "cell_type": "code",
   "execution_count": 18,
   "id": "ff182b8b",
   "metadata": {},
   "outputs": [
    {
     "name": "stdout",
     "output_type": "stream",
     "text": [
      "Generating optimized model...\n",
      "Done generating optimized model.\n"
     ]
    }
   ],
   "source": [
    "target_flops_ratio = 0.5\n",
    "# The build_model function returns a generated optimized model based on the desired performance target.\n",
    "# Here we first generate an optimized model based on a FLOPS target of 50% relative to initial model prototype.\n",
    "# The newly generated optimized model can then be further trained or fine-tuned.\n",
    "print('Generating optimized model...')\n",
    "model = build_model(\n",
    "    make_model,\n",
    "    initial_blockspecs,\n",
    "    input_shape,\n",
    "    target_flops_ratio,\n",
    "    pretrained_model=baseline_pretrained_model,\n",
    ")\n",
    "print('Done generating optimized model.')"
   ]
  },
  {
   "cell_type": "code",
   "execution_count": 19,
   "id": "88e11c40",
   "metadata": {},
   "outputs": [
    {
     "name": "stdout",
     "output_type": "stream",
     "text": [
      "Architecture properties of generated optimized model at a target FLOPs ratio of 0.5:\n",
      "Number of Parameters:  11249228\n",
      "Number of FLOPs:  2036724776\n",
      "\t\t Num Blocks \t Channels per Block\n",
      "Stage 0 \t 2 \t\t 51\n",
      "Stage 1 \t 3 \t\t 103\n",
      "Stage 2 \t 4 \t\t 208\n",
      "Stage 3 \t 2 \t\t 428\n"
     ]
    }
   ],
   "source": [
    "# The newly generated optimized model's architecture is different than the initial model prototype\n",
    "print(\"Architecture properties of generated optimized model at a target FLOPs ratio of {}:\".format(target_flops_ratio))\n",
    "print(\"Number of Parameters: \", get_params(model))\n",
    "print(\"Number of FLOPs: \", get_flops(model, input_shape))\n",
    "\n",
    "print(\"\\t\\t Num Blocks \\t Channels per Block\")\n",
    "for b, blkspec in enumerate(model.blockspecs):\n",
    "    print(\"Stage {} \\t {} \\t\\t {}\".format(b, blkspec.depth, blkspec.channels))"
   ]
  },
  {
   "cell_type": "markdown",
   "id": "2bef56ad",
   "metadata": {},
   "source": [
    "<font size= 4>\n",
    "The generated optimized model is now ready to be further trained or fine-tuned then deployed using your preferred deployment toolkits (TensorRT, OpenVINO, etc.). There are no custom or proprietary artifacts in the model, and so deployment compatibility for the newly generated model remains the same as the initial model prototype.\n",
    "<br>\n",
    "<br>\n",
    "Let us now generate a second optimized model at a different performance target (FLOPS target of 20% relative to initial model prototype).\n",
    "</font>"
   ]
  },
  {
   "cell_type": "code",
   "execution_count": 20,
   "id": "bf7c14de",
   "metadata": {},
   "outputs": [
    {
     "name": "stdout",
     "output_type": "stream",
     "text": [
      "Generating model...\n",
      "Done generating model.\n",
      "Architecture properties of generated optimized model at a target FLOPs ratio of 0.2:\n",
      "Number of Parameters:  3888956\n",
      "Number of FLOPs:  814206824\n",
      "\t\t Num Blocks \t Channels per Block\n",
      "Stage 0 \t 1 \t\t 35\n",
      "Stage 1 \t 2 \t\t 72\n",
      "Stage 2 \t 3 \t\t 150\n",
      "Stage 3 \t 1 \t\t 324\n"
     ]
    }
   ],
   "source": [
    "# We will now re-run Build SDK, but this time generate an optimized model based on a different performance target.\n",
    "target_flops_ratio = 0.2\n",
    "# In this demo, we now generate an optimized model based on a FLOPS target of 20% relative to initial model prototype.\n",
    "# The newly generated optimized model can then be further trained or fine-tuned.\n",
    "\n",
    "print('Generating model...')\n",
    "model2 = build_model(\n",
    "    make_model,\n",
    "    initial_blockspecs,\n",
    "    input_shape,\n",
    "    target_flops_ratio,\n",
    "    pretrained_model=baseline_pretrained_model,\n",
    ")\n",
    "print('Done generating model.')\n",
    "print(\"Architecture properties of generated optimized model at a target FLOPs ratio of {}:\".format(target_flops_ratio))\n",
    "print(\"Number of Parameters: \", get_params(model2))\n",
    "print(\"Number of FLOPs: \", get_flops(model2, input_shape))\n",
    "\n",
    "print(\"\\t\\t Num Blocks \\t Channels per Block\")\n",
    "for b, blkspec in enumerate(model2.blockspecs):\n",
    "    print(\"Stage {} \\t {} \\t\\t {}\".format(b, blkspec.depth, blkspec.channels))"
   ]
  },
  {
   "cell_type": "code",
   "execution_count": 21,
   "id": "358c6728",
   "metadata": {},
   "outputs": [],
   "source": [
    "import pathlib\n",
    "import os\n",
    "target_flops_ratio = 0.2\n",
    "\n",
    "save_path = './models/gensynth_resnet_' + str(target_flops_ratio) + 'tfr'\n",
    "\n",
    "pathlib.Path(save_path).mkdir(parents=True, exist_ok=True)\n",
    "torch.save(model2.state_dict(), os.path.join(save_path, 'model'))"
   ]
  },
  {
   "cell_type": "code",
   "execution_count": 36,
   "id": "1825d4ed",
   "metadata": {},
   "outputs": [
    {
     "name": "stdout",
     "output_type": "stream",
     "text": [
      "Output: ./output/gensynth_resnet_0.5tfr_covid_net_model-geo\n",
      "Epoch 0/19\n",
      "----------\n",
      "Batch 0 of 120.0\n",
      "Batch 100 of 120.0\n",
      "train Loss: 0.7790 Acc: 0.6219\n",
      "val Loss: 0.8378 Acc: 0.5633\n",
      "Epoch took 122.95534801483154 seconds\n",
      "\n",
      "Epoch 1/19\n",
      "----------\n",
      "Batch 0 of 120.0\n",
      "Batch 100 of 120.0\n",
      "train Loss: 0.6462 Acc: 0.7063\n",
      "val Loss: 0.7649 Acc: 0.6507\n",
      "Epoch took 121.96569561958313 seconds\n",
      "\n",
      "Epoch 2/19\n",
      "----------\n",
      "Batch 0 of 120.0\n",
      "Batch 100 of 120.0\n",
      "train Loss: 0.6311 Acc: 0.7016\n",
      "val Loss: 0.8327 Acc: 0.5939\n",
      "Epoch took 123.5315613746643 seconds\n",
      "\n",
      "Epoch 3/19\n",
      "----------\n",
      "Batch 0 of 120.0\n",
      "Batch 100 of 120.0\n",
      "train Loss: 0.5790 Acc: 0.7240\n",
      "val Loss: 1.1946 Acc: 0.4629\n",
      "Epoch took 121.75552582740784 seconds\n",
      "\n",
      "Epoch 4/19\n",
      "----------\n",
      "Batch 0 of 120.0\n",
      "Batch 100 of 120.0\n",
      "train Loss: 0.5676 Acc: 0.7375\n",
      "val Loss: 0.7763 Acc: 0.6725\n",
      "Epoch took 122.21567630767822 seconds\n",
      "\n",
      "Epoch 5/19\n",
      "----------\n",
      "Batch 0 of 120.0\n",
      "Batch 100 of 120.0\n",
      "train Loss: 0.5368 Acc: 0.7495\n",
      "val Loss: 0.8966 Acc: 0.5852\n",
      "Epoch took 121.18999814987183 seconds\n",
      "\n",
      "Epoch 6/19\n",
      "----------\n",
      "Batch 0 of 120.0\n",
      "Batch 100 of 120.0\n",
      "train Loss: 0.5016 Acc: 0.7760\n",
      "val Loss: 0.8012 Acc: 0.6245\n",
      "Epoch took 122.44303941726685 seconds\n",
      "\n",
      "Epoch 7/19\n",
      "----------\n",
      "Batch 0 of 120.0\n",
      "Batch 100 of 120.0\n",
      "train Loss: 0.4582 Acc: 0.7948\n",
      "val Loss: 0.7585 Acc: 0.6681\n",
      "Epoch took 121.6288902759552 seconds\n",
      "\n",
      "Epoch 8/19\n",
      "----------\n",
      "Batch 0 of 120.0\n",
      "Batch 100 of 120.0\n",
      "train Loss: 0.4268 Acc: 0.8135\n",
      "val Loss: 0.7507 Acc: 0.6550\n",
      "Epoch took 123.91019654273987 seconds\n",
      "\n",
      "Epoch 9/19\n",
      "----------\n",
      "Batch 0 of 120.0\n",
      "Batch 100 of 120.0\n",
      "train Loss: 0.4063 Acc: 0.8354\n",
      "val Loss: 0.7487 Acc: 0.6769\n",
      "Epoch took 120.59685850143433 seconds\n",
      "\n",
      "Epoch 10/19\n",
      "----------\n",
      "Batch 0 of 120.0\n",
      "Batch 100 of 120.0\n",
      "train Loss: 0.3917 Acc: 0.8380\n",
      "val Loss: 0.7391 Acc: 0.6594\n",
      "Epoch took 122.10670900344849 seconds\n",
      "\n",
      "Epoch 11/19\n",
      "----------\n",
      "Batch 0 of 120.0\n",
      "Batch 100 of 120.0\n",
      "train Loss: 0.4046 Acc: 0.8255\n",
      "val Loss: 0.7530 Acc: 0.6812\n",
      "Epoch took 120.97127652168274 seconds\n",
      "\n",
      "Epoch 12/19\n",
      "----------\n",
      "Batch 0 of 120.0\n",
      "Batch 100 of 120.0\n",
      "train Loss: 0.3778 Acc: 0.8411\n",
      "val Loss: 0.7398 Acc: 0.6550\n",
      "Epoch took 121.84998369216919 seconds\n",
      "\n",
      "Epoch 13/19\n",
      "----------\n",
      "Batch 0 of 120.0\n",
      "Batch 100 of 120.0\n",
      "train Loss: 0.3839 Acc: 0.8490\n",
      "val Loss: 0.7277 Acc: 0.6638\n",
      "Epoch took 121.24084711074829 seconds\n",
      "\n",
      "Epoch 14/19\n",
      "----------\n",
      "Batch 0 of 120.0\n",
      "Batch 100 of 120.0\n",
      "train Loss: 0.3854 Acc: 0.8417\n",
      "val Loss: 0.7522 Acc: 0.6856\n",
      "Epoch took 122.35725140571594 seconds\n",
      "\n",
      "Epoch 15/19\n",
      "----------\n",
      "Batch 0 of 120.0\n",
      "Batch 100 of 120.0\n",
      "train Loss: 0.3794 Acc: 0.8448\n",
      "val Loss: 0.7538 Acc: 0.6812\n",
      "Epoch took 121.29052257537842 seconds\n",
      "\n",
      "Epoch 16/19\n",
      "----------\n",
      "Batch 0 of 120.0\n",
      "Batch 100 of 120.0\n",
      "train Loss: 0.3814 Acc: 0.8469\n",
      "val Loss: 0.7418 Acc: 0.6900\n",
      "Epoch took 121.22821807861328 seconds\n",
      "\n",
      "Epoch 17/19\n",
      "----------\n",
      "Batch 0 of 120.0\n",
      "Batch 100 of 120.0\n",
      "train Loss: 0.3557 Acc: 0.8552\n",
      "val Loss: 0.7384 Acc: 0.6856\n",
      "Epoch took 123.20397233963013 seconds\n",
      "\n",
      "Epoch 18/19\n",
      "----------\n",
      "Batch 0 of 120.0\n",
      "Batch 100 of 120.0\n",
      "train Loss: 0.3941 Acc: 0.8474\n",
      "val Loss: 0.7520 Acc: 0.6812\n",
      "Epoch took 120.97791004180908 seconds\n",
      "\n",
      "Epoch 19/19\n",
      "----------\n",
      "Batch 0 of 120.0\n",
      "Batch 100 of 120.0\n",
      "train Loss: 0.3852 Acc: 0.8422\n",
      "val Loss: 0.7451 Acc: 0.6594\n",
      "Epoch took 122.12361431121826 seconds\n",
      "\n",
      "Training complete in 40m 40s\n",
      "Best val Acc: 0.689956\n"
     ]
    }
   ],
   "source": [
    "import copy\n",
    "import pandas as pd\n",
    "import numpy as np\n",
    "import time\n",
    "import torch\n",
    "import torch.nn as nn\n",
    "import torch.optim as optim\n",
    "from torchvision import models\n",
    "\n",
    "import warnings\n",
    "warnings.filterwarnings('ignore')\n",
    " \n",
    "from dataset import get_dataloader\n",
    "\n",
    "NUM_CLASSES = 3\n",
    "BATCH_SIZE = 16\n",
    "\n",
    "datadir = '../montefiore_severity/CXR'\n",
    "trainfile = '../../alex.maclean/montefiore_severity/nov_29_split_80_10_10/train_mtf_sev.txt'\n",
    "validfile = '../../alex.maclean/montefiore_severity/nov_29_split_80_10_10/valid_mtf_sev.txt'\n",
    "testfile = '../../alex.maclean/montefiore_severity/nov_29_split_80_10_10/test_mtf_sev.txt'\n",
    "name = 'covid_net_model'\n",
    "modelfile = None\n",
    "\n",
    "# Check which metric to use\n",
    "measure = 'geo' \n",
    "\n",
    "bin_map = np.array([[0.0,3.0], [3.0,6.0], [6.0,8.0]])\n",
    "is_classification = True\n",
    "\n",
    "target_flops_ratio = 0.5\n",
    " \n",
    "device = torch.device(\"cuda:2\" if torch.cuda.is_available() else \"cpu\")\n",
    " \n",
    "    \n",
    "# output path\n",
    "output_path = './output/'\n",
    "run_id = 'gensynth_resnet_' + str(target_flops_ratio) + 'tfr_' + name + f'-{measure}'\n",
    "run_path = output_path + run_id\n",
    "pathlib.Path(run_path).mkdir(parents=True, exist_ok=True)\n",
    "print('Output: ' + run_path)\n",
    " \n",
    "\n",
    "train_dataloader = get_dataloader(\n",
    "        csv_file=trainfile,\n",
    "        datadir=datadir,\n",
    "        batch_size=BATCH_SIZE,\n",
    "        transform='base',\n",
    "        bin_map=bin_map,\n",
    "        is_classification=is_classification)\n",
    " \n",
    "valid_dataloader = get_dataloader(\n",
    "        csv_file=validfile,\n",
    "        datadir=datadir,\n",
    "        batch_size=1,\n",
    "        transform=None,\n",
    "        bin_map=bin_map,\n",
    "        is_classification=is_classification) # no augmentations\n",
    " \n",
    "dataloaders = {'train':train_dataloader, 'val':valid_dataloader}\n",
    "dataset_sizes = {'train':len(train_dataloader)*BATCH_SIZE, 'val':len(valid_dataloader)}\n",
    "\n",
    "train_acc = []\n",
    "train_loss = []\n",
    "val_acc = []\n",
    "val_loss = []\n",
    " \n",
    "def train_model(model, criterion, optimizer, scheduler, num_epochs=20):\n",
    "    '''taken from https://pytorch.org/tutorials/beginner/transfer_learning_tutorial.html '''\n",
    "    start = time.time()\n",
    "    best_model_wts = copy.deepcopy(model.state_dict())\n",
    "\n",
    "    best_acc = 0.0\n",
    " \n",
    "    for epoch in range(num_epochs):\n",
    "        print('Epoch {}/{}'.format(epoch, num_epochs-1))\n",
    "        print('-' * 10)\n",
    " \n",
    "        epoch_start = time.time()\n",
    " \n",
    "        for phase in ['train', 'val']:\n",
    "            if phase == 'train':\n",
    "                model.train()\n",
    "            else:\n",
    "                model.eval()\n",
    " \n",
    "            running_loss = 0.0\n",
    "            running_corrects = 0\n",
    " \n",
    "            for i, sample_batch in enumerate(dataloaders[phase]):\n",
    "                inputs = sample_batch['image'].to(device, dtype=torch.float)\n",
    "                # CXR sev to get OPC or GEO\n",
    "                labels = sample_batch['label'][measure].to(device, dtype=torch.long)\n",
    "                \n",
    "                optimizer.zero_grad()\n",
    " \n",
    "                with torch.set_grad_enabled(phase=='train'):\n",
    "                    outputs = model(inputs)\n",
    "                    _, preds = torch.max(outputs, 1)\n",
    "                    loss = criterion(outputs, labels)\n",
    "\n",
    "                    if phase == 'train':\n",
    "                        loss.backward()\n",
    "                        optimizer.step()\n",
    " \n",
    "                running_loss += loss.item() * inputs.size(0)\n",
    "                running_corrects += torch.sum(preds == labels.data)\n",
    " \n",
    "                if i % 100 == 0 and phase == 'train':\n",
    "                    phase_batch = BATCH_SIZE if phase == 'train' else 1\n",
    "                    print('Batch {} of {}'.format(i, dataset_sizes[phase]/phase_batch))\n",
    "            if phase == 'train':\n",
    "                scheduler.step()\n",
    " \n",
    "            epoch_loss = running_loss / dataset_sizes[phase]\n",
    "            epoch_acc = running_corrects.double() / dataset_sizes[phase]\n",
    " \n",
    "            if phase == 'train':\n",
    "                train_acc.append(epoch_acc)\n",
    "                train_loss.append(epoch_loss)\n",
    "            else:\n",
    "                val_acc.append(epoch_acc)\n",
    "                val_loss.append(epoch_loss)\n",
    "    \n",
    "            print('{} Loss: {:.4f} Acc: {:.4f}'.format(\n",
    "                phase, epoch_loss, epoch_acc))\n",
    "            # deep copy the model\n",
    "            if phase == 'val' and epoch_acc > best_acc:\n",
    "                best_acc = epoch_acc\n",
    "                best_model_wts = copy.deepcopy(model.state_dict())\n",
    "        print('Epoch took {} seconds'.format(time.time() - epoch_start))\n",
    " \n",
    "        print()\n",
    " \n",
    "    time_elapsed = time.time() - start\n",
    "    print('Training complete in {:.0f}m {:.0f}s'.format(\n",
    "        time_elapsed // 60, time_elapsed % 60))\n",
    "    print('Best val Acc: {:4f}'.format(best_acc))\n",
    "    # load best model weights\n",
    "    model.load_state_dict(best_model_wts)\n",
    "    return model\n",
    " \n",
    "model_ft = model\n",
    "#num_ftrs = model_ft.fc.in_features\n",
    " \n",
    "#print(num_ftrs)\n",
    "\n",
    "#model_ft.fc = nn.Linear(num_ftrs, NUM_CLASSES)\n",
    "\n",
    "model_ft = model_ft.to(device)\n",
    " \n",
    "# initial basic training parameters\n",
    "criterion = nn.CrossEntropyLoss()\n",
    "optimizer_ft = optim.SGD(model_ft.parameters(), lr=0.001, momentum=0.9)\n",
    "exp_lr_scheduler = optim.lr_scheduler.StepLR(optimizer_ft, step_size=7, gamma=0.1)\n",
    " \n",
    "model_ft = train_model(model_ft, criterion, optimizer_ft, exp_lr_scheduler, num_epochs=20)\n",
    " \n",
    "torch.save(model_ft.state_dict(), os.path.join(run_path, 'model'))\n",
    " \n",
    "\n"
   ]
  },
  {
   "cell_type": "code",
   "execution_count": 35,
   "id": "baa6d6b2",
   "metadata": {},
   "outputs": [
    {
     "data": {
      "image/png": "[encoded data removed]",
      "text/plain": [
       "<Figure size 432x288 with 1 Axes>"
      ]
     },
     "metadata": {
      "needs_background": "light"
     },
     "output_type": "display_data"
    },
    {
     "data": {
      "text/plain": [
       "Text(0.5, 1.0, '0.2 TFP - Loss During Training')"
      ]
     },
     "execution_count": 35,
     "metadata": {},
     "output_type": "execute_result"
    },
    {
     "data": {
      "image/png": "[encoded data removed]",
      "text/plain": [
       "<Figure size 432x288 with 1 Axes>"
      ]
     },
     "metadata": {
      "needs_background": "light"
     },
     "output_type": "display_data"
    }
   ],
   "source": [
    "import matplotlib.pyplot as plt\n",
    "\n",
    "\n",
    "plt.plot(train_acc2)\n",
    "plt.plot(val_acc2)\n",
    "plt.legend(['Train Acc', 'Val Acc'])\n",
    "plt.ylabel('Epoch')\n",
    "plt.xlabel('Accuracy')\n",
    "plt.title('0.2 TFP - Accuracy During Training')\n",
    "\n",
    "plt.show()\n",
    "\n",
    "plt.plot(train_loss2)\n",
    "plt.plot(val_loss2)\n",
    "plt.legend(['Train Loss', 'Val Loss'])\n",
    "plt.ylabel('Epoch')\n",
    "plt.xlabel('Loss')\n",
    "plt.title('0.2 TFP - Loss During Training')"
   ]
  },
  {
   "cell_type": "code",
   "execution_count": 37,
   "id": "de44c05e",
   "metadata": {},
   "outputs": [
    {
     "data": {
      "image/png": "[encoded data removed]",
      "text/plain": [
       "<Figure size 432x288 with 1 Axes>"
      ]
     },
     "metadata": {
      "needs_background": "light"
     },
     "output_type": "display_data"
    },
    {
     "data": {
      "text/plain": [
       "Text(0.5, 1.0, '0.2 TFP - Loss During Training')"
      ]
     },
     "execution_count": 37,
     "metadata": {},
     "output_type": "execute_result"
    },
    {
     "data": {
      "image/png": "[encoded data removed]",
      "text/plain": [
       "<Figure size 432x288 with 1 Axes>"
      ]
     },
     "metadata": {
      "needs_background": "light"
     },
     "output_type": "display_data"
    }
   ],
   "source": [
    "import matplotlib.pyplot as plt\n",
    "\n",
    "\n",
    "plt.plot(train_acc)\n",
    "plt.plot(val_acc)\n",
    "plt.legend(['Train Acc', 'Val Acc'])\n",
    "plt.ylabel('Epoch')\n",
    "plt.xlabel('Accuracy')\n",
    "plt.title('0.5 TFP - Accuracy During Training')\n",
    "\n",
    "plt.show()\n",
    "\n",
    "plt.plot(train_loss)\n",
    "plt.plot(val_loss)\n",
    "plt.legend(['Train Loss', 'Val Loss'])\n",
    "plt.ylabel('Epoch')\n",
    "plt.xlabel('Loss')\n",
    "plt.title('0.5 TFP - Loss During Training')"
   ]
  },
  {
   "cell_type": "code",
   "execution_count": 40,
   "id": "8f3f732e",
   "metadata": {},
   "outputs": [
    {
     "name": "stdout",
     "output_type": "stream",
     "text": [
      "<darwinai.builder.BlockSpec object at 0x7f2ef6969490>\n",
      "Stage 0 \t 1 \t\t 35\n",
      "<darwinai.builder.BlockSpec object at 0x7f2ef69697f0>\n",
      "Stage 1 \t 2 \t\t 72\n",
      "<darwinai.builder.BlockSpec object at 0x7f2ef69698e0>\n",
      "Stage 2 \t 3 \t\t 150\n",
      "<darwinai.builder.BlockSpec object at 0x7f2ef6969880>\n",
      "Stage 3 \t 1 \t\t 324\n"
     ]
    }
   ],
   "source": [
    "for b, blkspec in enumerate(model2.blockspecs):\n",
    "    print(blkspec)\n",
    "    print(\"Stage {} \\t {} \\t\\t {}\".format(b, blkspec.depth, blkspec.channels))"
   ]
  },
  {
   "cell_type": "code",
   "execution_count": null,
   "id": "c88da64d",
   "metadata": {},
   "outputs": [],
   "source": []
  }
 ],
 "metadata": {
  "kernelspec": {
   "display_name": "Python 3",
   "language": "python",
   "name": "python3"
  },
  "language_info": {
   "codemirror_mode": {
    "name": "ipython",
    "version": 3
   },
   "file_extension": ".py",
   "mimetype": "text/x-python",
   "name": "python",
   "nbconvert_exporter": "python",
   "pygments_lexer": "ipython3",
   "version": "3.8.5"
  }
 },
 "nbformat": 4,
 "nbformat_minor": 5
}
